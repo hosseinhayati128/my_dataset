{
 "cells": [
  {
   "cell_type": "code",
   "execution_count": 18,
   "metadata": {
    "scrolled": true
   },
   "outputs": [],
   "source": [
    "import cv2\n",
    "import pickle\n",
    "import os.path\n",
    "import numpy as np\n",
    "from imutils import paths\n",
    "import matplotlib.pyplot as plt\n",
    "from sklearn.preprocessing import LabelBinarizer, MultiLabelBinarizer\n",
    "from sklearn.model_selection import train_test_split\n",
    "from keras.utils.training_utils import multi_gpu_model\n",
    "from keras.layers.convolutional import Conv2D, MaxPooling2D, MaxPooling3D\n",
    "from keras.layers.core import Flatten, Dense, Dropout, Reshape, Lambda\n",
    "from keras.layers import ConvLSTM2D, BatchNormalization, Activation\n",
    "import bz2\n",
    "import gzip\n",
    "import random\n",
    "import keras.backend as K\n",
    "\n",
    "import tensorflow as tf\n",
    "from keras.engine.training import Model\n",
    "from keras.engine.topology import Input\n",
    "\n",
    "from PIL import Image\n",
    "from sklearn.feature_extraction import image as skimage\n",
    "\n"
   ]
  },
  {
   "cell_type": "code",
   "execution_count": 19,
   "metadata": {},
   "outputs": [],
   "source": [
    "MODEL_FILENAME = \"preprocess_model.hdf5\"\n",
    "MODEL_LABELS_FILENAME = \"preprocess_model.dat\""
   ]
  },
  {
   "cell_type": "code",
   "execution_count": 20,
   "metadata": {},
   "outputs": [],
   "source": [
    "# config = tf.ConfigProto()\n",
    "# config.gpu_options.allow_growth = True\n",
    "# config.gpu_options.per_process_gpu_memory_fraction = 0.3\n",
    "# set_session(tf.Session(config=config))"
   ]
  },
  {
   "cell_type": "code",
   "execution_count": 21,
   "metadata": {},
   "outputs": [
    {
     "name": "stdout",
     "output_type": "stream",
     "text": [
      "['z', '4', 'e', 't', 'k']\n",
      "['6', 'f', 'b', 'y', 'e']\n",
      "['t', '5', 'f', 'e', '6']\n"
     ]
    },
    {
     "name": "stderr",
     "output_type": "stream",
     "text": [
      "c:\\users\\hossein\\anaconda3\\envs\\cv\\lib\\site-packages\\matplotlib\\cbook\\deprecation.py:107: MatplotlibDeprecationWarning: Adding an axes using the same arguments as a previous axes currently reuses the earlier instance.  In a future version, a new instance will always be created and returned.  Meanwhile, this warning can be suppressed, and the future behavior ensured, by passing a unique label to each axes instance.\n",
      "  warnings.warn(message, mplDeprecation, stacklevel=1)\n"
     ]
    }
   ],
   "source": [
    "with gzip.open('../database_preprocessor1.pkl.gz') as f:\n",
    "    database = pickle.load(f)\n",
    "\n",
    "#show some pictures\n",
    "picts = random.sample(database,3)\n",
    "for p in picts:\n",
    "    print(p[0])\n",
    "    plt.title(''.join(p[0]))\n",
    "    plt.subplot(1,2,1)\n",
    "    plt.imshow(Image.fromarray(p[1]))\n",
    "    plt.subplot(1,2,2)\n",
    "    plt.imshow(Image.fromarray(p[2]))\n",
    "    plt.show()"
   ]
  },
  {
   "cell_type": "code",
   "execution_count": 17,
   "metadata": {},
   "outputs": [
    {
     "name": "stdout",
     "output_type": "stream",
     "text": [
      "(80, 180)\n",
      "(80, 180)\n",
      "(80, 180)\n",
      "(80, 180)\n",
      "(80, 180)\n",
      "(80, 180)\n",
      "all_letters: ['n', '8', 'b', 'h', '4', 'z', '5', '7', 'y', 'm', 't', 's', 'g', 'p', 'e', 'w', 'f', '3', '2', 'k', 'x', 'a', 'r', '6']\n"
     ]
    }
   ],
   "source": [
    "# initialize the data and labels\n",
    "data = []\n",
    "data2 = []\n",
    "labels = [[], [], [], [], []]\n",
    "labels2 = []\n",
    "all_labels_chars = []\n",
    "plot_first = 0\n",
    "\n",
    "# loop over the input images\n",
    "for label, imagein, imageout in database:\n",
    "    if len(imagein.shape) > 2 and imagein.shape[2] != 1:\n",
    "        imagein = cv2.cvtColor(imagein, cv2.COLOR_BGR2GRAY)\n",
    "    \n",
    "    # Resize the letter so it fits in a 300x50 pixel box\n",
    "    # image = resize_to_fit(image, 250, 50, 1)\n",
    "\n",
    "    if plot_first < 3:\n",
    "        plot_first += 1\n",
    "        plt.imshow(imagein)\n",
    "        plt.show()\n",
    "        print(imagein.shape)\n",
    "        plt.imshow(imageout)\n",
    "        plt.show()\n",
    "        print(imageout.shape)\n",
    "    \n",
    "#     Add a third channel dimension to the image to make Keras happy\n",
    "    imagein = np.expand_dims(imagein, axis=2)\n",
    "    imageout = np.expand_dims(imageout, axis=2)\n",
    "    \n",
    "    if imagein.shape[0] != 80 or imagein.shape[1] != 180 or imagein.shape[2] != 1: \n",
    "        print(imagein.shape)\n",
    "        continue\n",
    "    if imageout.shape[0] != 80 or imageout.shape[1] != 180 or imageout.shape[2] != 1: \n",
    "        print(imageout.shape)\n",
    "        continue\n",
    "\n",
    "    all_labels_chars.extend(list(label))\n",
    "  \n",
    "    if len(label) < 5 or len(label) > 5:\n",
    "        print('error:', label)\n",
    "        continue\n",
    "  \n",
    "    # Add the letter image and it's label to our training data\n",
    "    data.append(imagein)\n",
    "    data2.append(imageout)\n",
    "    \n",
    "    labels2.append(label)\n",
    "    \n",
    "    for i in range(5):\n",
    "        labels[i].append(label[i])\n",
    "\n",
    "all_labels_chars = set(all_labels_chars)\n",
    "all_letters = list(all_labels_chars)\n",
    "\n",
    "print('all_letters:',all_letters)"
   ]
  },
  {
   "cell_type": "code",
   "execution_count": 12,
   "metadata": {},
   "outputs": [
    {
     "name": "stdout",
     "output_type": "stream",
     "text": [
      "0.0\n",
      "1.0\n",
      "0\n",
      "1\n",
      "(80, 180, 1)\n"
     ]
    },
    {
     "data": {
      "image/png": "[encoded data removed]",
      "text/plain": [
       "<Figure size 432x288 with 1 Axes>"
      ]
     },
     "metadata": {},
     "output_type": "display_data"
    }
   ],
   "source": [
    "# scale the raw pixel intensities to the range [0, 1] (this improves training)\n",
    "data = (np.array(data, dtype=\"float\") - np.min(data)) / (np.max(data) - np.min(data))\n",
    "print(np.min(data))\n",
    "print(np.max(data))\n",
    "data2 = np.array(data2) > ((np.max(data2)+np.min(data2))/2)\n",
    "data2 = np.array(data2,dtype='int')\n",
    "print(np.min(data2))\n",
    "print(np.max(data2))\n",
    "\n",
    "# data2 = (np.array(data2, dtype=\"float\") - np.min(data2)) / (np.max(data2) - np.min(data2))\n",
    "# print(np.min(data2))\n",
    "# print(np.max(data2))\n",
    "\n",
    "labels = np.array(labels)\n",
    "labels2 = np.array(labels2)\n",
    "\n",
    "# Split the training data into separate train and test sets\n",
    "(X_train, X_test, Y_train, Y_test) = train_test_split(data, data2, test_size=0.05, random_state=0)\n",
    "\n",
    "# Split the training data into separate train and test sets\n",
    "(X_train2, X_test2, Y_train2, Y_test2) = train_test_split(data, labels2, test_size=0.05, random_state=0)\n",
    "\n",
    "for p in [random.choice(data2)]:\n",
    "    print(p.shape)\n",
    "    plt.imshow(p[:,:,0])\n",
    "    plt.show()\n",
    "    \n",
    "lb = [None, None, None, None, None, ]\n",
    "Y_train3, Y_test3 = [[], [], [], [], []], [[], [], [], [], []]\n",
    "\n",
    "# Convert the labels (letters) into one-hot encodings that Keras can work with\n",
    "for j in range(5):\n",
    "    for i in range(len(Y_train2)):\n",
    "        Y_train3[j].append(Y_train2[i][j])\n",
    "    for i in range(len(Y_test)):\n",
    "        Y_test3[j].append(Y_test2[i][j])\n",
    "    \n",
    "    lb[j] = LabelBinarizer().fit(Y_train3[j])\n",
    "#     lb[j] = LabelBinarizer().fit(all_letters)\n",
    "    Y_train3[j] = lb[j].transform(Y_train3[j])\n",
    "    \n",
    "    Y_test3[j] = lb[j].transform(Y_test3[j])\n",
    "\n",
    "# Save the mapping from labels to one-hot encodings.\n",
    "# We'll need this later when we use the model to decode what it's predictions mean\n",
    "with open(MODEL_LABELS_FILENAME, \"wb\") as f:\n",
    "    pickle.dump(lb, f)"
   ]
  },
  {
   "cell_type": "code",
   "execution_count": 7,
   "metadata": {},
   "outputs": [
    {
     "name": "stderr",
     "output_type": "stream",
     "text": [
      "c:\\users\\hossein\\anaconda3\\envs\\cv\\lib\\site-packages\\ipykernel_launcher.py:64: UserWarning: Update your `Model` call to the Keras 2 API: `Model(inputs=Tensor(\"in..., outputs=Tensor(\"ac...)`\n"
     ]
    },
    {
     "ename": "ValueError",
     "evalue": "To call `multi_gpu_model` with `gpus=2`, we expect the following devices to be available: ['/cpu:0', '/gpu:0', '/gpu:1']. However this machine only has: ['/cpu:0']. Try reducing `gpus`.",
     "output_type": "error",
     "traceback": [
      "\u001b[1;31m---------------------------------------------------------------------------\u001b[0m",
      "\u001b[1;31mValueError\u001b[0m                                Traceback (most recent call last)",
      "\u001b[1;32m<ipython-input-7-17fcf438173a>\u001b[0m in \u001b[0;36m<module>\u001b[1;34m()\u001b[0m\n\u001b[0;32m     65\u001b[0m \u001b[1;33m\u001b[0m\u001b[0m\n\u001b[0;32m     66\u001b[0m \u001b[1;31m# make the model parallel\u001b[0m\u001b[1;33m\u001b[0m\u001b[1;33m\u001b[0m\u001b[0m\n\u001b[1;32m---> 67\u001b[1;33m \u001b[0mimage_model\u001b[0m \u001b[1;33m=\u001b[0m \u001b[0mmulti_gpu_model\u001b[0m\u001b[1;33m(\u001b[0m\u001b[0msingle_image_model\u001b[0m\u001b[1;33m,\u001b[0m \u001b[0mgpus\u001b[0m\u001b[1;33m=\u001b[0m\u001b[1;36m2\u001b[0m\u001b[1;33m)\u001b[0m\u001b[1;33m\u001b[0m\u001b[0m\n\u001b[0m\u001b[0;32m     68\u001b[0m \u001b[1;33m\u001b[0m\u001b[0m\n\u001b[0;32m     69\u001b[0m \u001b[0mprint\u001b[0m\u001b[1;33m(\u001b[0m\u001b[0msingle_image_model\u001b[0m\u001b[1;33m.\u001b[0m\u001b[0msummary\u001b[0m\u001b[1;33m(\u001b[0m\u001b[1;33m)\u001b[0m\u001b[1;33m)\u001b[0m\u001b[1;33m\u001b[0m\u001b[0m\n",
      "\u001b[1;32mc:\\users\\hossein\\anaconda3\\envs\\cv\\lib\\site-packages\\keras\\utils\\training_utils.py\u001b[0m in \u001b[0;36mmulti_gpu_model\u001b[1;34m(model, gpus)\u001b[0m\n\u001b[0;32m    136\u001b[0m                 'Try reducing `gpus`.' % (gpus,\n\u001b[0;32m    137\u001b[0m                                           \u001b[0mtarget_devices\u001b[0m\u001b[1;33m,\u001b[0m\u001b[1;33m\u001b[0m\u001b[0m\n\u001b[1;32m--> 138\u001b[1;33m                                           available_devices))\n\u001b[0m\u001b[0;32m    139\u001b[0m \u001b[1;33m\u001b[0m\u001b[0m\n\u001b[0;32m    140\u001b[0m     \u001b[1;32mdef\u001b[0m \u001b[0mget_slice\u001b[0m\u001b[1;33m(\u001b[0m\u001b[0mdata\u001b[0m\u001b[1;33m,\u001b[0m \u001b[0mi\u001b[0m\u001b[1;33m,\u001b[0m \u001b[0mparts\u001b[0m\u001b[1;33m)\u001b[0m\u001b[1;33m:\u001b[0m\u001b[1;33m\u001b[0m\u001b[0m\n",
      "\u001b[1;31mValueError\u001b[0m: To call `multi_gpu_model` with `gpus=2`, we expect the following devices to be available: ['/cpu:0', '/gpu:0', '/gpu:1']. However this machine only has: ['/cpu:0']. Try reducing `gpus`."
     ]
    }
   ],
   "source": [
    "inp = Input((80, 180, 1))\n",
    "\n",
    "layers = []\n",
    "\n",
    "layers.append(Conv2D(8, (16, 16), padding=\"same\",\n",
    "                     input_shape=(80, 180, 1))(inp))\n",
    "layers.append(BatchNormalization()(layers[-1]))\n",
    "layers.append(Activation('relu')(layers[-1]))\n",
    "# layers.append(Dropout(0.4)(layers[-1]))\n",
    "# layers.append(MaxPooling2D(pool_size=(4, 4), strides=(4, 4))(layers[-1]))\n",
    "\n",
    "layers.append(Conv2D(16, (16, 16), padding=\"same\")(layers[-1]))\n",
    "layers.append(Conv2D(16, (16, 16), padding=\"same\")(layers[-1]))\n",
    "layers.append(Conv2D(16, (16, 16), padding=\"same\")(layers[-1]))\n",
    "layers.append(BatchNormalization()(layers[-1]))\n",
    "layers.append(Activation('relu')(layers[-1]))\n",
    "# layers.append(Dropout(0.4)(layers[-1]))\n",
    "# layers.append(MaxPooling2D(pool_size=(2, 2), strides=(2, 2))(layers[-1]))\n",
    "\n",
    "layers.append(Conv2D(1, (8, 8), padding=\"same\")(layers[-1]))\n",
    "layers.append(BatchNormalization()(layers[-1]))\n",
    "layers.append(Activation('relu')(layers[-1]))\n",
    "# layers.append(Dropout(0.3)(layers[-1]))\n",
    "# layers.append(MaxPooling2D(pool_size=(1, 1), strides=(1, 1))(layers[-1]))\n",
    "\n",
    "imagelayer = layers[-1]\n",
    "\n",
    "\n",
    "layers.append(Conv2D(8, (8, 8), padding=\"same\")(layers[-1]))\n",
    "layers.append(BatchNormalization()(layers[-1]))\n",
    "layers.append(Activation('relu')(layers[-1]))\n",
    "# layers.append(Dropout(0.4)(layers[-1]))\n",
    "layers.append(MaxPooling2D(pool_size=(4, 4), strides=(4, 4))(layers[-1]))\n",
    "\n",
    "layers.append(Conv2D(16, (8, 8), padding=\"same\")(layers[-1]))\n",
    "layers.append(BatchNormalization()(layers[-1]))\n",
    "layers.append(Activation('relu')(layers[-1]))\n",
    "# layers.append(Dropout(0.4)(layers[-1]))\n",
    "layers.append(MaxPooling2D(pool_size=(4, 4), strides=(4, 4))(layers[-1]))\n",
    "\n",
    "\n",
    "layers.append(Flatten()(layers[-1]))\n",
    "\n",
    "# layers.append(Dense(128, activation=\"relu\")(layers[-1]))\n",
    "layers.append(Dense(128)(layers[-1]))\n",
    "layers.append(BatchNormalization()(layers[-1]))\n",
    "layers.append(Activation('relu')(layers[-1]))\n",
    "layers.append(Dropout(0.2)(layers[-1]))\n",
    "layers.append(Dense(128)(layers[-1]))\n",
    "layers.append(BatchNormalization()(layers[-1]))\n",
    "layers.append(Activation('relu')(layers[-1]))\n",
    "# layers.append(Dense(128, activation=\"relu\")(layers[-1]))\n",
    "# layers.append(Dense(128, activation=\"relu\")(layers[-1]))\n",
    "\n",
    "outs = []\n",
    "outs.append(Dense(len(list(all_letters)), activation=\"softmax\")(layers[-1]))\n",
    "outs.append(Dense(len(list(all_letters)), activation=\"softmax\")(layers[-1]))\n",
    "outs.append(Dense(len(list(all_letters)), activation=\"softmax\")(layers[-1]))\n",
    "outs.append(Dense(len(list(all_letters)), activation=\"softmax\")(layers[-1]))\n",
    "outs.append(Dense(len(list(all_letters)), activation=\"softmax\")(layers[-1]))\n",
    "\n",
    "with tf.device('/cpu:0'):\n",
    "    # Build the neural network!\n",
    "    single_image_model = Model(inputs=inp, output=imagelayer)\n",
    "    \n",
    "# make the model parallel\n",
    "image_model = multi_gpu_model(single_image_model, gpus=2)\n",
    "\n",
    "print(single_image_model.summary())\n",
    "\n",
    "# Ask Keras to build the TensorFlow model behind the scenes\n",
    "image_model.compile(optimizer='adam',\n",
    "              loss='binary_crossentropy',\n",
    "              metrics=['accuracy'])\n",
    "\n",
    "\n",
    "with tf.device('/cpu:0'):\n",
    "    # Build the neural network!\n",
    "    single_model = Model(inputs=inp, output=outs)\n",
    "    \n",
    "# make the model parallel\n",
    "model = multi_gpu_model(single_model, gpus=2)\n",
    "\n",
    "print(single_model.summary())\n",
    "\n",
    "# Ask Keras to build the TensorFlow model behind the scenes\n",
    "model.compile(optimizer='adam',\n",
    "              loss='categorical_crossentropy',\n",
    "              metrics=['accuracy'])"
   ]
  },
  {
   "cell_type": "code",
   "execution_count": null,
   "metadata": {},
   "outputs": [],
   "source": [
    "print(Y_train.shape)\n",
    "print(X_train.shape)\n",
    "# Train the neural network\n",
    "image_model.fit(X_train, Y_train, validation_data=(X_test, Y_test), batch_size=512, epochs=64, verbose=1)"
   ]
  },
  {
   "cell_type": "code",
   "execution_count": 14,
   "metadata": {},
   "outputs": [],
   "source": [
    "# Ask Keras to build the TensorFlow model behind the scenes\n",
    "single_model.compile(optimizer='adam',\n",
    "          loss='categorical_crossentropy',\n",
    "          metrics=['accuracy'])\n",
    "\n",
    "# Save the trained model to disk\n",
    "single_model.save(MODEL_FILENAME)"
   ]
  },
  {
   "cell_type": "code",
   "execution_count": 16,
   "metadata": {},
   "outputs": [
    {
     "name": "stdout",
     "output_type": "stream",
     "text": [
      "(1, 80, 180, 1)\n"
     ]
    },
    {
     "data": {
      "image/png": "[encoded data removed]",
      "text/plain": [
       "<Figure size 432x288 with 1 Axes>"
      ]
     },
     "metadata": {
      "needs_background": "light"
     },
     "output_type": "display_data"
    },
    {
     "name": "stdout",
     "output_type": "stream",
     "text": [
      "(1, 80, 180, 1)\n"
     ]
    },
    {
     "data": {
      "image/png": "[encoded data removed]",
      "text/plain": [
       "<Figure size 432x288 with 1 Axes>"
      ]
     },
     "metadata": {
      "needs_background": "light"
     },
     "output_type": "display_data"
    }
   ],
   "source": [
    "# single_model.load_weights(MODEL_FILENAME)\n",
    "label, image, imageout = random.choice(database)\n",
    "\n",
    "# image = np.expand_dims(image, axis=3)\n",
    "image = np.expand_dims(image[:,:,0:1], axis=0)\n",
    "\n",
    "pred = single_image_model.predict(image)\n",
    "# pred_list = lb.inverse_transform(pred[0,:,:])\n",
    "# print(pred_list)\n",
    "plt.title(label)\n",
    "print(image.shape)\n",
    "plt.imshow(image[0,:,:,0])\n",
    "plt.show()\n",
    "print(pred.shape)\n",
    "plt.imshow(pred[0,:,:,0])\n",
    "plt.show()"
   ]
  },
  {
   "cell_type": "code",
   "execution_count": 69,
   "metadata": {},
   "outputs": [
    {
     "name": "stdout",
     "output_type": "stream",
     "text": [
      "Train on 3005 samples, validate on 159 samples\n",
      "Epoch 1/64\n",
      "3005/3005 [==============================] - 7s 2ms/step - loss: 15.8960 - dense_28_loss: 3.1793 - dense_29_loss: 3.1792 - dense_30_loss: 3.1779 - dense_31_loss: 3.1791 - dense_32_loss: 3.1804 - dense_28_acc: 0.0326 - dense_29_acc: 0.0413 - dense_30_acc: 0.0479 - dense_31_acc: 0.0436 - dense_32_acc: 0.0393 - val_loss: 15.8907 - val_dense_28_loss: 3.1793 - val_dense_29_loss: 3.1785 - val_dense_30_loss: 3.1779 - val_dense_31_loss: 3.1768 - val_dense_32_loss: 3.1782 - val_dense_28_acc: 0.0252 - val_dense_29_acc: 0.0377 - val_dense_30_acc: 0.0503 - val_dense_31_acc: 0.0440 - val_dense_32_acc: 0.0503\n",
      "Epoch 2/64\n",
      "3005/3005 [==============================] - 4s 1ms/step - loss: 15.8885 - dense_28_loss: 3.1777 - dense_29_loss: 3.1778 - dense_30_loss: 3.1774 - dense_31_loss: 3.1779 - dense_32_loss: 3.1777 - dense_28_acc: 0.0489 - dense_29_acc: 0.0409 - dense_30_acc: 0.0516 - dense_31_acc: 0.0456 - dense_32_acc: 0.0396 - val_loss: 15.8902 - val_dense_28_loss: 3.1793 - val_dense_29_loss: 3.1779 - val_dense_30_loss: 3.1783 - val_dense_31_loss: 3.1767 - val_dense_32_loss: 3.1781 - val_dense_28_acc: 0.0252 - val_dense_29_acc: 0.0377 - val_dense_30_acc: 0.0503 - val_dense_31_acc: 0.0377 - val_dense_32_acc: 0.0126\n",
      "Epoch 3/64\n",
      "3005/3005 [==============================] - 4s 1ms/step - loss: 15.8866 - dense_28_loss: 3.1771 - dense_29_loss: 3.1777 - dense_30_loss: 3.1771 - dense_31_loss: 3.1776 - dense_32_loss: 3.1771 - dense_28_acc: 0.0493 - dense_29_acc: 0.0459 - dense_30_acc: 0.0516 - dense_31_acc: 0.0433 - dense_32_acc: 0.0476 - val_loss: 15.8909 - val_dense_28_loss: 3.1809 - val_dense_29_loss: 3.1780 - val_dense_30_loss: 3.1780 - val_dense_31_loss: 3.1749 - val_dense_32_loss: 3.1790 - val_dense_28_acc: 0.0252 - val_dense_29_acc: 0.0377 - val_dense_30_acc: 0.0503 - val_dense_31_acc: 0.0755 - val_dense_32_acc: 0.0252\n",
      "Epoch 4/64\n",
      "3005/3005 [==============================] - 4s 1ms/step - loss: 15.8832 - dense_28_loss: 3.1760 - dense_29_loss: 3.1772 - dense_30_loss: 3.1764 - dense_31_loss: 3.1775 - dense_32_loss: 3.1760 - dense_28_acc: 0.0509 - dense_29_acc: 0.0436 - dense_30_acc: 0.0436 - dense_31_acc: 0.0483 - dense_32_acc: 0.0453 - val_loss: 15.8959 - val_dense_28_loss: 3.1872 - val_dense_29_loss: 3.1783 - val_dense_30_loss: 3.1781 - val_dense_31_loss: 3.1709 - val_dense_32_loss: 3.1815 - val_dense_28_acc: 0.0252 - val_dense_29_acc: 0.0377 - val_dense_30_acc: 0.0503 - val_dense_31_acc: 0.0314 - val_dense_32_acc: 0.0252\n",
      "Epoch 5/64\n",
      "3005/3005 [==============================] - 4s 1ms/step - loss: 15.8820 - dense_28_loss: 3.1750 - dense_29_loss: 3.1779 - dense_30_loss: 3.1751 - dense_31_loss: 3.1785 - dense_32_loss: 3.1755 - dense_28_acc: 0.0496 - dense_29_acc: 0.0423 - dense_30_acc: 0.0473 - dense_31_acc: 0.0419 - dense_32_acc: 0.0476 - val_loss: 15.8982 - val_dense_28_loss: 3.1878 - val_dense_29_loss: 3.1781 - val_dense_30_loss: 3.1786 - val_dense_31_loss: 3.1711 - val_dense_32_loss: 3.1826 - val_dense_28_acc: 0.0252 - val_dense_29_acc: 0.0377 - val_dense_30_acc: 0.0503 - val_dense_31_acc: 0.0566 - val_dense_32_acc: 0.0252\n",
      "Epoch 6/64\n",
      "3005/3005 [==============================] - 4s 1ms/step - loss: 15.8790 - dense_28_loss: 3.1748 - dense_29_loss: 3.1772 - dense_30_loss: 3.1752 - dense_31_loss: 3.1771 - dense_32_loss: 3.1746 - dense_28_acc: 0.0502 - dense_29_acc: 0.0423 - dense_30_acc: 0.0499 - dense_31_acc: 0.0466 - dense_32_acc: 0.0489 - val_loss: 15.8970 - val_dense_28_loss: 3.1873 - val_dense_29_loss: 3.1774 - val_dense_30_loss: 3.1794 - val_dense_31_loss: 3.1707 - val_dense_32_loss: 3.1823 - val_dense_28_acc: 0.0252 - val_dense_29_acc: 0.0377 - val_dense_30_acc: 0.0503 - val_dense_31_acc: 0.0566 - val_dense_32_acc: 0.0252\n",
      "Epoch 7/64\n",
      "3005/3005 [==============================] - 4s 1ms/step - loss: 15.8777 - dense_28_loss: 3.1747 - dense_29_loss: 3.1765 - dense_30_loss: 3.1748 - dense_31_loss: 3.1769 - dense_32_loss: 3.1748 - dense_28_acc: 0.0506 - dense_29_acc: 0.0466 - dense_30_acc: 0.0463 - dense_31_acc: 0.0449 - dense_32_acc: 0.0502 - val_loss: 15.8984 - val_dense_28_loss: 3.1880 - val_dense_29_loss: 3.1763 - val_dense_30_loss: 3.1807 - val_dense_31_loss: 3.1707 - val_dense_32_loss: 3.1827 - val_dense_28_acc: 0.0252 - val_dense_29_acc: 0.0566 - val_dense_30_acc: 0.0503 - val_dense_31_acc: 0.0566 - val_dense_32_acc: 0.0440\n",
      "Epoch 8/64\n",
      "3005/3005 [==============================] - 4s 1ms/step - loss: 15.8755 - dense_28_loss: 3.1735 - dense_29_loss: 3.1770 - dense_30_loss: 3.1741 - dense_31_loss: 3.1767 - dense_32_loss: 3.1742 - dense_28_acc: 0.0506 - dense_29_acc: 0.0416 - dense_30_acc: 0.0506 - dense_31_acc: 0.0409 - dense_32_acc: 0.0446 - val_loss: 15.9035 - val_dense_28_loss: 3.1907 - val_dense_29_loss: 3.1760 - val_dense_30_loss: 3.1828 - val_dense_31_loss: 3.1691 - val_dense_32_loss: 3.1849 - val_dense_28_acc: 0.0252 - val_dense_29_acc: 0.0566 - val_dense_30_acc: 0.0503 - val_dense_31_acc: 0.0566 - val_dense_32_acc: 0.0252\n",
      "Epoch 9/64\n",
      "3005/3005 [==============================] - 4s 1ms/step - loss: 15.8744 - dense_28_loss: 3.1736 - dense_29_loss: 3.1762 - dense_30_loss: 3.1746 - dense_31_loss: 3.1767 - dense_32_loss: 3.1733 - dense_28_acc: 0.0506 - dense_29_acc: 0.0469 - dense_30_acc: 0.0519 - dense_31_acc: 0.0446 - dense_32_acc: 0.0479 - val_loss: 15.9047 - val_dense_28_loss: 3.1894 - val_dense_29_loss: 3.1769 - val_dense_30_loss: 3.1825 - val_dense_31_loss: 3.1708 - val_dense_32_loss: 3.1851 - val_dense_28_acc: 0.0252 - val_dense_29_acc: 0.0440 - val_dense_30_acc: 0.0503 - val_dense_31_acc: 0.0566 - val_dense_32_acc: 0.0252\n",
      "Epoch 10/64\n",
      "3005/3005 [==============================] - 4s 1ms/step - loss: 15.8745 - dense_28_loss: 3.1737 - dense_29_loss: 3.1761 - dense_30_loss: 3.1745 - dense_31_loss: 3.1767 - dense_32_loss: 3.1735 - dense_28_acc: 0.0506 - dense_29_acc: 0.0449 - dense_30_acc: 0.0519 - dense_31_acc: 0.0396 - dense_32_acc: 0.0459 - val_loss: 15.9076 - val_dense_28_loss: 3.1896 - val_dense_29_loss: 3.1771 - val_dense_30_loss: 3.1834 - val_dense_31_loss: 3.1715 - val_dense_32_loss: 3.1861 - val_dense_28_acc: 0.0252 - val_dense_29_acc: 0.0440 - val_dense_30_acc: 0.0503 - val_dense_31_acc: 0.0377 - val_dense_32_acc: 0.0440\n",
      "Epoch 11/64\n",
      "3005/3005 [==============================] - 4s 1ms/step - loss: 15.8734 - dense_28_loss: 3.1733 - dense_29_loss: 3.1758 - dense_30_loss: 3.1743 - dense_31_loss: 3.1765 - dense_32_loss: 3.1735 - dense_28_acc: 0.0506 - dense_29_acc: 0.0463 - dense_30_acc: 0.0499 - dense_31_acc: 0.0416 - dense_32_acc: 0.0502 - val_loss: 15.9055 - val_dense_28_loss: 3.1879 - val_dense_29_loss: 3.1764 - val_dense_30_loss: 3.1829 - val_dense_31_loss: 3.1725 - val_dense_32_loss: 3.1858 - val_dense_28_acc: 0.0252 - val_dense_29_acc: 0.0440 - val_dense_30_acc: 0.0503 - val_dense_31_acc: 0.0440 - val_dense_32_acc: 0.0440\n",
      "Epoch 12/64\n",
      "3005/3005 [==============================] - 4s 1ms/step - loss: 15.8731 - dense_28_loss: 3.1734 - dense_29_loss: 3.1764 - dense_30_loss: 3.1737 - dense_31_loss: 3.1761 - dense_32_loss: 3.1736 - dense_28_acc: 0.0506 - dense_29_acc: 0.0456 - dense_30_acc: 0.0479 - dense_31_acc: 0.0456 - dense_32_acc: 0.0453 - val_loss: 15.9143 - val_dense_28_loss: 3.1921 - val_dense_29_loss: 3.1756 - val_dense_30_loss: 3.1855 - val_dense_31_loss: 3.1714 - val_dense_32_loss: 3.1896 - val_dense_28_acc: 0.0252 - val_dense_29_acc: 0.0440 - val_dense_30_acc: 0.0503 - val_dense_31_acc: 0.0440 - val_dense_32_acc: 0.0440\n",
      "Epoch 13/64\n",
      "3005/3005 [==============================] - 4s 1ms/step - loss: 15.8712 - dense_28_loss: 3.1727 - dense_29_loss: 3.1753 - dense_30_loss: 3.1738 - dense_31_loss: 3.1762 - dense_32_loss: 3.1732 - dense_28_acc: 0.0502 - dense_29_acc: 0.0516 - dense_30_acc: 0.0496 - dense_31_acc: 0.0469 - dense_32_acc: 0.0463 - val_loss: 15.9131 - val_dense_28_loss: 3.1910 - val_dense_29_loss: 3.1763 - val_dense_30_loss: 3.1849 - val_dense_31_loss: 3.1715 - val_dense_32_loss: 3.1894 - val_dense_28_acc: 0.0252 - val_dense_29_acc: 0.0566 - val_dense_30_acc: 0.0503 - val_dense_31_acc: 0.0314 - val_dense_32_acc: 0.0440\n",
      "Epoch 14/64\n",
      "3005/3005 [==============================] - 4s 1ms/step - loss: 15.8730 - dense_28_loss: 3.1732 - dense_29_loss: 3.1760 - dense_30_loss: 3.1741 - dense_31_loss: 3.1766 - dense_32_loss: 3.1731 - dense_28_acc: 0.0506 - dense_29_acc: 0.0483 - dense_30_acc: 0.0542 - dense_31_acc: 0.0473 - dense_32_acc: 0.0436 - val_loss: 15.9121 - val_dense_28_loss: 3.1901 - val_dense_29_loss: 3.1773 - val_dense_30_loss: 3.1838 - val_dense_31_loss: 3.1715 - val_dense_32_loss: 3.1894 - val_dense_28_acc: 0.0252 - val_dense_29_acc: 0.0566 - val_dense_30_acc: 0.0503 - val_dense_31_acc: 0.0314 - val_dense_32_acc: 0.0440\n",
      "Epoch 15/64\n",
      "3005/3005 [==============================] - 4s 1ms/step - loss: 15.8729 - dense_28_loss: 3.1727 - dense_29_loss: 3.1765 - dense_30_loss: 3.1743 - dense_31_loss: 3.1763 - dense_32_loss: 3.1731 - dense_28_acc: 0.0506 - dense_29_acc: 0.0449 - dense_30_acc: 0.0519 - dense_31_acc: 0.0419 - dense_32_acc: 0.0519 - val_loss: 15.9127 - val_dense_28_loss: 3.1907 - val_dense_29_loss: 3.1772 - val_dense_30_loss: 3.1838 - val_dense_31_loss: 3.1716 - val_dense_32_loss: 3.1894 - val_dense_28_acc: 0.0252 - val_dense_29_acc: 0.0566 - val_dense_30_acc: 0.0503 - val_dense_31_acc: 0.0314 - val_dense_32_acc: 0.0440\n",
      "Epoch 16/64\n",
      "3005/3005 [==============================] - 4s 1ms/step - loss: 15.8730 - dense_28_loss: 3.1734 - dense_29_loss: 3.1756 - dense_30_loss: 3.1743 - dense_31_loss: 3.1764 - dense_32_loss: 3.1734 - dense_28_acc: 0.0506 - dense_29_acc: 0.0466 - dense_30_acc: 0.0502 - dense_31_acc: 0.0456 - dense_32_acc: 0.0459 - val_loss: 15.9145 - val_dense_28_loss: 3.1911 - val_dense_29_loss: 3.1778 - val_dense_30_loss: 3.1846 - val_dense_31_loss: 3.1712 - val_dense_32_loss: 3.1898 - val_dense_28_acc: 0.0252 - val_dense_29_acc: 0.0566 - val_dense_30_acc: 0.0503 - val_dense_31_acc: 0.0314 - val_dense_32_acc: 0.0440\n",
      "Epoch 17/64\n",
      "3005/3005 [==============================] - 4s 1ms/step - loss: 15.8726 - dense_28_loss: 3.1729 - dense_29_loss: 3.1759 - dense_30_loss: 3.1743 - dense_31_loss: 3.1761 - dense_32_loss: 3.1734 - dense_28_acc: 0.0506 - dense_29_acc: 0.0453 - dense_30_acc: 0.0436 - dense_31_acc: 0.0443 - dense_32_acc: 0.0486 - val_loss: 15.9155 - val_dense_28_loss: 3.1916 - val_dense_29_loss: 3.1778 - val_dense_30_loss: 3.1851 - val_dense_31_loss: 3.1713 - val_dense_32_loss: 3.1897 - val_dense_28_acc: 0.0252 - val_dense_29_acc: 0.0566 - val_dense_30_acc: 0.0503 - val_dense_31_acc: 0.0314 - val_dense_32_acc: 0.0440\n",
      "Epoch 18/64\n",
      "3005/3005 [==============================] - 4s 1ms/step - loss: 15.8735 - dense_28_loss: 3.1735 - dense_29_loss: 3.1757 - dense_30_loss: 3.1743 - dense_31_loss: 3.1762 - dense_32_loss: 3.1738 - dense_28_acc: 0.0509 - dense_29_acc: 0.0476 - dense_30_acc: 0.0506 - dense_31_acc: 0.0446 - dense_32_acc: 0.0409 - val_loss: 15.9100 - val_dense_28_loss: 3.1890 - val_dense_29_loss: 3.1772 - val_dense_30_loss: 3.1842 - val_dense_31_loss: 3.1720 - val_dense_32_loss: 3.1876 - val_dense_28_acc: 0.0252 - val_dense_29_acc: 0.0566 - val_dense_30_acc: 0.0503 - val_dense_31_acc: 0.0314 - val_dense_32_acc: 0.0440\n",
      "Epoch 19/64\n",
      "3005/3005 [==============================] - 4s 1ms/step - loss: 15.8724 - dense_28_loss: 3.1733 - dense_29_loss: 3.1757 - dense_30_loss: 3.1738 - dense_31_loss: 3.1762 - dense_32_loss: 3.1734 - dense_28_acc: 0.0506 - dense_29_acc: 0.0496 - dense_30_acc: 0.0496 - dense_31_acc: 0.0466 - dense_32_acc: 0.0463 - val_loss: 15.9136 - val_dense_28_loss: 3.1907 - val_dense_29_loss: 3.1769 - val_dense_30_loss: 3.1848 - val_dense_31_loss: 3.1724 - val_dense_32_loss: 3.1889 - val_dense_28_acc: 0.0252 - val_dense_29_acc: 0.0566 - val_dense_30_acc: 0.0503 - val_dense_31_acc: 0.0314 - val_dense_32_acc: 0.0440\n",
      "Epoch 20/64\n",
      "3005/3005 [==============================] - 4s 1ms/step - loss: 15.8718 - dense_28_loss: 3.1727 - dense_29_loss: 3.1754 - dense_30_loss: 3.1741 - dense_31_loss: 3.1763 - dense_32_loss: 3.1733 - dense_28_acc: 0.0506 - dense_29_acc: 0.0502 - dense_30_acc: 0.0479 - dense_31_acc: 0.0489 - dense_32_acc: 0.0459 - val_loss: 15.9203 - val_dense_28_loss: 3.1941 - val_dense_29_loss: 3.1766 - val_dense_30_loss: 3.1866 - val_dense_31_loss: 3.1715 - val_dense_32_loss: 3.1916 - val_dense_28_acc: 0.0252 - val_dense_29_acc: 0.0566 - val_dense_30_acc: 0.0503 - val_dense_31_acc: 0.0314 - val_dense_32_acc: 0.0440\n",
      "Epoch 21/64\n",
      "3005/3005 [==============================] - 4s 1ms/step - loss: 15.8730 - dense_28_loss: 3.1733 - dense_29_loss: 3.1758 - dense_30_loss: 3.1744 - dense_31_loss: 3.1765 - dense_32_loss: 3.1729 - dense_28_acc: 0.0506 - dense_29_acc: 0.0439 - dense_30_acc: 0.0493 - dense_31_acc: 0.0446 - dense_32_acc: 0.0469 - val_loss: 15.9183 - val_dense_28_loss: 3.1923 - val_dense_29_loss: 3.1769 - val_dense_30_loss: 3.1859 - val_dense_31_loss: 3.1723 - val_dense_32_loss: 3.1911 - val_dense_28_acc: 0.0252 - val_dense_29_acc: 0.0566 - val_dense_30_acc: 0.0503 - val_dense_31_acc: 0.0314 - val_dense_32_acc: 0.0440\n",
      "Epoch 22/64\n",
      "3005/3005 [==============================] - 4s 1ms/step - loss: 15.8722 - dense_28_loss: 3.1728 - dense_29_loss: 3.1759 - dense_30_loss: 3.1736 - dense_31_loss: 3.1761 - dense_32_loss: 3.1738 - dense_28_acc: 0.0502 - dense_29_acc: 0.0479 - dense_30_acc: 0.0512 - dense_31_acc: 0.0486 - dense_32_acc: 0.0466 - val_loss: 15.9124 - val_dense_28_loss: 3.1897 - val_dense_29_loss: 3.1766 - val_dense_30_loss: 3.1842 - val_dense_31_loss: 3.1727 - val_dense_32_loss: 3.1892 - val_dense_28_acc: 0.0252 - val_dense_29_acc: 0.0566 - val_dense_30_acc: 0.0503 - val_dense_31_acc: 0.0314 - val_dense_32_acc: 0.0440\n",
      "Epoch 23/64\n",
      "3005/3005 [==============================] - 4s 1ms/step - loss: 15.8727 - dense_28_loss: 3.1732 - dense_29_loss: 3.1760 - dense_30_loss: 3.1742 - dense_31_loss: 3.1762 - dense_32_loss: 3.1731 - dense_28_acc: 0.0506 - dense_29_acc: 0.0476 - dense_30_acc: 0.0479 - dense_31_acc: 0.0456 - dense_32_acc: 0.0479 - val_loss: 15.9104 - val_dense_28_loss: 3.1891 - val_dense_29_loss: 3.1762 - val_dense_30_loss: 3.1835 - val_dense_31_loss: 3.1727 - val_dense_32_loss: 3.1889 - val_dense_28_acc: 0.0252 - val_dense_29_acc: 0.0566 - val_dense_30_acc: 0.0503 - val_dense_31_acc: 0.0440 - val_dense_32_acc: 0.0440\n",
      "Epoch 24/64\n",
      "3005/3005 [==============================] - 4s 1ms/step - loss: 15.8726 - dense_28_loss: 3.1736 - dense_29_loss: 3.1762 - dense_30_loss: 3.1739 - dense_31_loss: 3.1757 - dense_32_loss: 3.1733 - dense_28_acc: 0.0506 - dense_29_acc: 0.0473 - dense_30_acc: 0.0493 - dense_31_acc: 0.0443 - dense_32_acc: 0.0519 - val_loss: 15.9140 - val_dense_28_loss: 3.1909 - val_dense_29_loss: 3.1759 - val_dense_30_loss: 3.1845 - val_dense_31_loss: 3.1721 - val_dense_32_loss: 3.1906 - val_dense_28_acc: 0.0252 - val_dense_29_acc: 0.0566 - val_dense_30_acc: 0.0503 - val_dense_31_acc: 0.0440 - val_dense_32_acc: 0.0440\n",
      "Epoch 25/64\n",
      "3005/3005 [==============================] - 4s 1ms/step - loss: 15.8726 - dense_28_loss: 3.1729 - dense_29_loss: 3.1761 - dense_30_loss: 3.1738 - dense_31_loss: 3.1765 - dense_32_loss: 3.1733 - dense_28_acc: 0.0509 - dense_29_acc: 0.0466 - dense_30_acc: 0.0509 - dense_31_acc: 0.0439 - dense_32_acc: 0.0449 - val_loss: 15.9184 - val_dense_28_loss: 3.1931 - val_dense_29_loss: 3.1761 - val_dense_30_loss: 3.1855 - val_dense_31_loss: 3.1716 - val_dense_32_loss: 3.1922 - val_dense_28_acc: 0.0252 - val_dense_29_acc: 0.0566 - val_dense_30_acc: 0.0503 - val_dense_31_acc: 0.0440 - val_dense_32_acc: 0.0440\n",
      "Epoch 26/64\n",
      "3005/3005 [==============================] - 4s 1ms/step - loss: 15.8717 - dense_28_loss: 3.1728 - dense_29_loss: 3.1754 - dense_30_loss: 3.1741 - dense_31_loss: 3.1759 - dense_32_loss: 3.1734 - dense_28_acc: 0.0506 - dense_29_acc: 0.0479 - dense_30_acc: 0.0473 - dense_31_acc: 0.0489 - dense_32_acc: 0.0493 - val_loss: 15.9159 - val_dense_28_loss: 3.1915 - val_dense_29_loss: 3.1764 - val_dense_30_loss: 3.1846 - val_dense_31_loss: 3.1721 - val_dense_32_loss: 3.1913 - val_dense_28_acc: 0.0252 - val_dense_29_acc: 0.0566 - val_dense_30_acc: 0.0503 - val_dense_31_acc: 0.0440 - val_dense_32_acc: 0.0440\n",
      "Epoch 27/64\n",
      "3005/3005 [==============================] - 4s 1ms/step - loss: 15.8717 - dense_28_loss: 3.1728 - dense_29_loss: 3.1757 - dense_30_loss: 3.1741 - dense_31_loss: 3.1759 - dense_32_loss: 3.1731 - dense_28_acc: 0.0506 - dense_29_acc: 0.0466 - dense_30_acc: 0.0489 - dense_31_acc: 0.0466 - dense_32_acc: 0.0466 - val_loss: 15.9152 - val_dense_28_loss: 3.1908 - val_dense_29_loss: 3.1767 - val_dense_30_loss: 3.1840 - val_dense_31_loss: 3.1724 - val_dense_32_loss: 3.1912 - val_dense_28_acc: 0.0252 - val_dense_29_acc: 0.0566 - val_dense_30_acc: 0.0503 - val_dense_31_acc: 0.0440 - val_dense_32_acc: 0.0440\n",
      "Epoch 28/64\n",
      "3005/3005 [==============================] - 4s 1ms/step - loss: 15.8725 - dense_28_loss: 3.1732 - dense_29_loss: 3.1759 - dense_30_loss: 3.1740 - dense_31_loss: 3.1762 - dense_32_loss: 3.1732 - dense_28_acc: 0.0506 - dense_29_acc: 0.0473 - dense_30_acc: 0.0489 - dense_31_acc: 0.0456 - dense_32_acc: 0.0479 - val_loss: 15.9149 - val_dense_28_loss: 3.1905 - val_dense_29_loss: 3.1767 - val_dense_30_loss: 3.1839 - val_dense_31_loss: 3.1724 - val_dense_32_loss: 3.1914 - val_dense_28_acc: 0.0252 - val_dense_29_acc: 0.0566 - val_dense_30_acc: 0.0503 - val_dense_31_acc: 0.0440 - val_dense_32_acc: 0.0440\n",
      "Epoch 29/64\n",
      "3005/3005 [==============================] - 4s 1ms/step - loss: 15.8724 - dense_28_loss: 3.1735 - dense_29_loss: 3.1758 - dense_30_loss: 3.1740 - dense_31_loss: 3.1758 - dense_32_loss: 3.1732 - dense_28_acc: 0.0506 - dense_29_acc: 0.0476 - dense_30_acc: 0.0483 - dense_31_acc: 0.0463 - dense_32_acc: 0.0459 - val_loss: 15.9143 - val_dense_28_loss: 3.1904 - val_dense_29_loss: 3.1769 - val_dense_30_loss: 3.1839 - val_dense_31_loss: 3.1724 - val_dense_32_loss: 3.1907 - val_dense_28_acc: 0.0252 - val_dense_29_acc: 0.0566 - val_dense_30_acc: 0.0503 - val_dense_31_acc: 0.0440 - val_dense_32_acc: 0.0440\n",
      "Epoch 30/64\n",
      "3005/3005 [==============================] - 4s 1ms/step - loss: 15.8717 - dense_28_loss: 3.1727 - dense_29_loss: 3.1761 - dense_30_loss: 3.1736 - dense_31_loss: 3.1759 - dense_32_loss: 3.1734 - dense_28_acc: 0.0496 - dense_29_acc: 0.0476 - dense_30_acc: 0.0519 - dense_31_acc: 0.0476 - dense_32_acc: 0.0493 - val_loss: 15.9158 - val_dense_28_loss: 3.1914 - val_dense_29_loss: 3.1771 - val_dense_30_loss: 3.1844 - val_dense_31_loss: 3.1722 - val_dense_32_loss: 3.1907 - val_dense_28_acc: 0.0252 - val_dense_29_acc: 0.0566 - val_dense_30_acc: 0.0503 - val_dense_31_acc: 0.0314 - val_dense_32_acc: 0.0440\n",
      "Epoch 31/64\n",
      "3005/3005 [==============================] - 4s 1ms/step - loss: 15.8726 - dense_28_loss: 3.1736 - dense_29_loss: 3.1759 - dense_30_loss: 3.1742 - dense_31_loss: 3.1759 - dense_32_loss: 3.1730 - dense_28_acc: 0.0502 - dense_29_acc: 0.0476 - dense_30_acc: 0.0499 - dense_31_acc: 0.0453 - dense_32_acc: 0.0489 - val_loss: 15.9164 - val_dense_28_loss: 3.1918 - val_dense_29_loss: 3.1771 - val_dense_30_loss: 3.1843 - val_dense_31_loss: 3.1723 - val_dense_32_loss: 3.1909 - val_dense_28_acc: 0.0252 - val_dense_29_acc: 0.0566 - val_dense_30_acc: 0.0503 - val_dense_31_acc: 0.0314 - val_dense_32_acc: 0.0440\n",
      "Epoch 32/64\n",
      "3005/3005 [==============================] - 4s 1ms/step - loss: 15.8721 - dense_28_loss: 3.1732 - dense_29_loss: 3.1761 - dense_30_loss: 3.1739 - dense_31_loss: 3.1760 - dense_32_loss: 3.1728 - dense_28_acc: 0.0506 - dense_29_acc: 0.0473 - dense_30_acc: 0.0486 - dense_31_acc: 0.0453 - dense_32_acc: 0.0493 - val_loss: 15.9146 - val_dense_28_loss: 3.1911 - val_dense_29_loss: 3.1767 - val_dense_30_loss: 3.1841 - val_dense_31_loss: 3.1722 - val_dense_32_loss: 3.1904 - val_dense_28_acc: 0.0252 - val_dense_29_acc: 0.0566 - val_dense_30_acc: 0.0503 - val_dense_31_acc: 0.0314 - val_dense_32_acc: 0.0440\n",
      "Epoch 33/64\n",
      "3005/3005 [==============================] - 4s 1ms/step - loss: 15.8715 - dense_28_loss: 3.1729 - dense_29_loss: 3.1759 - dense_30_loss: 3.1736 - dense_31_loss: 3.1760 - dense_32_loss: 3.1730 - dense_28_acc: 0.0506 - dense_29_acc: 0.0476 - dense_30_acc: 0.0499 - dense_31_acc: 0.0456 - dense_32_acc: 0.0486 - val_loss: 15.9156 - val_dense_28_loss: 3.1913 - val_dense_29_loss: 3.1770 - val_dense_30_loss: 3.1842 - val_dense_31_loss: 3.1721 - val_dense_32_loss: 3.1911 - val_dense_28_acc: 0.0252 - val_dense_29_acc: 0.0566 - val_dense_30_acc: 0.0503 - val_dense_31_acc: 0.0314 - val_dense_32_acc: 0.0440\n",
      "Epoch 34/64\n",
      "3005/3005 [==============================] - 4s 1ms/step - loss: 15.8720 - dense_28_loss: 3.1731 - dense_29_loss: 3.1759 - dense_30_loss: 3.1738 - dense_31_loss: 3.1760 - dense_32_loss: 3.1732 - dense_28_acc: 0.0506 - dense_29_acc: 0.0476 - dense_30_acc: 0.0483 - dense_31_acc: 0.0489 - dense_32_acc: 0.0466 - val_loss: 15.9183 - val_dense_28_loss: 3.1923 - val_dense_29_loss: 3.1771 - val_dense_30_loss: 3.1851 - val_dense_31_loss: 3.1717 - val_dense_32_loss: 3.1921 - val_dense_28_acc: 0.0252 - val_dense_29_acc: 0.0566 - val_dense_30_acc: 0.0503 - val_dense_31_acc: 0.0314 - val_dense_32_acc: 0.0440\n",
      "Epoch 35/64\n",
      "3005/3005 [==============================] - 4s 1ms/step - loss: 15.8711 - dense_28_loss: 3.1730 - dense_29_loss: 3.1759 - dense_30_loss: 3.1735 - dense_31_loss: 3.1756 - dense_32_loss: 3.1731 - dense_28_acc: 0.0506 - dense_29_acc: 0.0463 - dense_30_acc: 0.0493 - dense_31_acc: 0.0522 - dense_32_acc: 0.0476 - val_loss: 15.9187 - val_dense_28_loss: 3.1923 - val_dense_29_loss: 3.1771 - val_dense_30_loss: 3.1851 - val_dense_31_loss: 3.1720 - val_dense_32_loss: 3.1923 - val_dense_28_acc: 0.0252 - val_dense_29_acc: 0.0566 - val_dense_30_acc: 0.0503 - val_dense_31_acc: 0.0314 - val_dense_32_acc: 0.0440\n",
      "Epoch 36/64\n",
      "3005/3005 [==============================] - 4s 1ms/step - loss: 15.8728 - dense_28_loss: 3.1730 - dense_29_loss: 3.1759 - dense_30_loss: 3.1741 - dense_31_loss: 3.1762 - dense_32_loss: 3.1736 - dense_28_acc: 0.0506 - dense_29_acc: 0.0466 - dense_30_acc: 0.0479 - dense_31_acc: 0.0469 - dense_32_acc: 0.0456 - val_loss: 15.9162 - val_dense_28_loss: 3.1913 - val_dense_29_loss: 3.1769 - val_dense_30_loss: 3.1845 - val_dense_31_loss: 3.1722 - val_dense_32_loss: 3.1913 - val_dense_28_acc: 0.0252 - val_dense_29_acc: 0.0566 - val_dense_30_acc: 0.0503 - val_dense_31_acc: 0.0314 - val_dense_32_acc: 0.0440\n",
      "Epoch 37/64\n",
      "3005/3005 [==============================] - 4s 1ms/step - loss: 15.8712 - dense_28_loss: 3.1728 - dense_29_loss: 3.1757 - dense_30_loss: 3.1737 - dense_31_loss: 3.1758 - dense_32_loss: 3.1731 - dense_28_acc: 0.0506 - dense_29_acc: 0.0476 - dense_30_acc: 0.0483 - dense_31_acc: 0.0446 - dense_32_acc: 0.0439 - val_loss: 15.9171 - val_dense_28_loss: 3.1917 - val_dense_29_loss: 3.1771 - val_dense_30_loss: 3.1848 - val_dense_31_loss: 3.1721 - val_dense_32_loss: 3.1914 - val_dense_28_acc: 0.0252 - val_dense_29_acc: 0.0566 - val_dense_30_acc: 0.0503 - val_dense_31_acc: 0.0314 - val_dense_32_acc: 0.0440\n",
      "Epoch 38/64\n",
      "3005/3005 [==============================] - 4s 1ms/step - loss: 15.8716 - dense_28_loss: 3.1730 - dense_29_loss: 3.1756 - dense_30_loss: 3.1740 - dense_31_loss: 3.1759 - dense_32_loss: 3.1731 - dense_28_acc: 0.0506 - dense_29_acc: 0.0476 - dense_30_acc: 0.0509 - dense_31_acc: 0.0446 - dense_32_acc: 0.0479 - val_loss: 15.9178 - val_dense_28_loss: 3.1921 - val_dense_29_loss: 3.1768 - val_dense_30_loss: 3.1851 - val_dense_31_loss: 3.1722 - val_dense_32_loss: 3.1917 - val_dense_28_acc: 0.0252 - val_dense_29_acc: 0.0566 - val_dense_30_acc: 0.0503 - val_dense_31_acc: 0.0314 - val_dense_32_acc: 0.0440\n",
      "Epoch 39/64\n",
      "3005/3005 [==============================] - 4s 1ms/step - loss: 15.8722 - dense_28_loss: 3.1732 - dense_29_loss: 3.1761 - dense_30_loss: 3.1740 - dense_31_loss: 3.1756 - dense_32_loss: 3.1734 - dense_28_acc: 0.0506 - dense_29_acc: 0.0473 - dense_30_acc: 0.0493 - dense_31_acc: 0.0466 - dense_32_acc: 0.0473 - val_loss: 15.9181 - val_dense_28_loss: 3.1925 - val_dense_29_loss: 3.1767 - val_dense_30_loss: 3.1850 - val_dense_31_loss: 3.1718 - val_dense_32_loss: 3.1920 - val_dense_28_acc: 0.0252 - val_dense_29_acc: 0.0566 - val_dense_30_acc: 0.0503 - val_dense_31_acc: 0.0314 - val_dense_32_acc: 0.0440\n",
      "Epoch 40/64\n",
      "3005/3005 [==============================] - 4s 1ms/step - loss: 15.8714 - dense_28_loss: 3.1728 - dense_29_loss: 3.1755 - dense_30_loss: 3.1738 - dense_31_loss: 3.1762 - dense_32_loss: 3.1731 - dense_28_acc: 0.0506 - dense_29_acc: 0.0473 - dense_30_acc: 0.0499 - dense_31_acc: 0.0403 - dense_32_acc: 0.0469 - val_loss: 15.9181 - val_dense_28_loss: 3.1925 - val_dense_29_loss: 3.1767 - val_dense_30_loss: 3.1847 - val_dense_31_loss: 3.1719 - val_dense_32_loss: 3.1923 - val_dense_28_acc: 0.0252 - val_dense_29_acc: 0.0566 - val_dense_30_acc: 0.0503 - val_dense_31_acc: 0.0314 - val_dense_32_acc: 0.0440\n",
      "Epoch 41/64\n",
      "3005/3005 [==============================] - 4s 1ms/step - loss: 15.8716 - dense_28_loss: 3.1729 - dense_29_loss: 3.1759 - dense_30_loss: 3.1740 - dense_31_loss: 3.1758 - dense_32_loss: 3.1730 - dense_28_acc: 0.0506 - dense_29_acc: 0.0463 - dense_30_acc: 0.0496 - dense_31_acc: 0.0506 - dense_32_acc: 0.0516 - val_loss: 15.9166 - val_dense_28_loss: 3.1919 - val_dense_29_loss: 3.1766 - val_dense_30_loss: 3.1844 - val_dense_31_loss: 3.1719 - val_dense_32_loss: 3.1918 - val_dense_28_acc: 0.0252 - val_dense_29_acc: 0.0566 - val_dense_30_acc: 0.0503 - val_dense_31_acc: 0.0314 - val_dense_32_acc: 0.0440\n",
      "Epoch 42/64\n",
      "3005/3005 [==============================] - 4s 1ms/step - loss: 15.8713 - dense_28_loss: 3.1731 - dense_29_loss: 3.1758 - dense_30_loss: 3.1738 - dense_31_loss: 3.1757 - dense_32_loss: 3.1728 - dense_28_acc: 0.0506 - dense_29_acc: 0.0473 - dense_30_acc: 0.0512 - dense_31_acc: 0.0463 - dense_32_acc: 0.0522 - val_loss: 15.9158 - val_dense_28_loss: 3.1919 - val_dense_29_loss: 3.1762 - val_dense_30_loss: 3.1846 - val_dense_31_loss: 3.1717 - val_dense_32_loss: 3.1915 - val_dense_28_acc: 0.0252 - val_dense_29_acc: 0.0566 - val_dense_30_acc: 0.0503 - val_dense_31_acc: 0.0314 - val_dense_32_acc: 0.0440\n",
      "Epoch 43/64\n",
      "3005/3005 [==============================] - 4s 1ms/step - loss: 15.8721 - dense_28_loss: 3.1732 - dense_29_loss: 3.1759 - dense_30_loss: 3.1740 - dense_31_loss: 3.1759 - dense_32_loss: 3.1730 - dense_28_acc: 0.0506 - dense_29_acc: 0.0473 - dense_30_acc: 0.0486 - dense_31_acc: 0.0473 - dense_32_acc: 0.0489 - val_loss: 15.9166 - val_dense_28_loss: 3.1923 - val_dense_29_loss: 3.1762 - val_dense_30_loss: 3.1848 - val_dense_31_loss: 3.1715 - val_dense_32_loss: 3.1918 - val_dense_28_acc: 0.0252 - val_dense_29_acc: 0.0566 - val_dense_30_acc: 0.0503 - val_dense_31_acc: 0.0314 - val_dense_32_acc: 0.0440\n",
      "Epoch 44/64\n",
      "3005/3005 [==============================] - 4s 1ms/step - loss: 15.8720 - dense_28_loss: 3.1729 - dense_29_loss: 3.1755 - dense_30_loss: 3.1743 - dense_31_loss: 3.1762 - dense_32_loss: 3.1732 - dense_28_acc: 0.0506 - dense_29_acc: 0.0473 - dense_30_acc: 0.0499 - dense_31_acc: 0.0426 - dense_32_acc: 0.0502 - val_loss: 15.9162 - val_dense_28_loss: 3.1917 - val_dense_29_loss: 3.1763 - val_dense_30_loss: 3.1845 - val_dense_31_loss: 3.1717 - val_dense_32_loss: 3.1919 - val_dense_28_acc: 0.0252 - val_dense_29_acc: 0.0566 - val_dense_30_acc: 0.0503 - val_dense_31_acc: 0.0314 - val_dense_32_acc: 0.0440\n",
      "Epoch 45/64\n",
      "3005/3005 [==============================] - 4s 1ms/step - loss: 15.8722 - dense_28_loss: 3.1733 - dense_29_loss: 3.1757 - dense_30_loss: 3.1742 - dense_31_loss: 3.1758 - dense_32_loss: 3.1732 - dense_28_acc: 0.0506 - dense_29_acc: 0.0469 - dense_30_acc: 0.0489 - dense_31_acc: 0.0489 - dense_32_acc: 0.0456 - val_loss: 15.9144 - val_dense_28_loss: 3.1911 - val_dense_29_loss: 3.1761 - val_dense_30_loss: 3.1845 - val_dense_31_loss: 3.1720 - val_dense_32_loss: 3.1907 - val_dense_28_acc: 0.0252 - val_dense_29_acc: 0.0566 - val_dense_30_acc: 0.0503 - val_dense_31_acc: 0.0440 - val_dense_32_acc: 0.0440\n",
      "Epoch 46/64\n",
      "3005/3005 [==============================] - 4s 1ms/step - loss: 15.8720 - dense_28_loss: 3.1728 - dense_29_loss: 3.1760 - dense_30_loss: 3.1741 - dense_31_loss: 3.1761 - dense_32_loss: 3.1729 - dense_28_acc: 0.0506 - dense_29_acc: 0.0479 - dense_30_acc: 0.0489 - dense_31_acc: 0.0413 - dense_32_acc: 0.0486 - val_loss: 15.9139 - val_dense_28_loss: 3.1909 - val_dense_29_loss: 3.1761 - val_dense_30_loss: 3.1842 - val_dense_31_loss: 3.1721 - val_dense_32_loss: 3.1905 - val_dense_28_acc: 0.0252 - val_dense_29_acc: 0.0566 - val_dense_30_acc: 0.0503 - val_dense_31_acc: 0.0440 - val_dense_32_acc: 0.0440\n",
      "Epoch 47/64\n",
      "3005/3005 [==============================] - 4s 1ms/step - loss: 15.8714 - dense_28_loss: 3.1727 - dense_29_loss: 3.1758 - dense_30_loss: 3.1739 - dense_31_loss: 3.1758 - dense_32_loss: 3.1732 - dense_28_acc: 0.0506 - dense_29_acc: 0.0473 - dense_30_acc: 0.0493 - dense_31_acc: 0.0483 - dense_32_acc: 0.0479 - val_loss: 15.9149 - val_dense_28_loss: 3.1913 - val_dense_29_loss: 3.1762 - val_dense_30_loss: 3.1846 - val_dense_31_loss: 3.1719 - val_dense_32_loss: 3.1910 - val_dense_28_acc: 0.0252 - val_dense_29_acc: 0.0566 - val_dense_30_acc: 0.0503 - val_dense_31_acc: 0.0314 - val_dense_32_acc: 0.0440\n",
      "Epoch 48/64\n",
      "3005/3005 [==============================] - 4s 1ms/step - loss: 15.8717 - dense_28_loss: 3.1726 - dense_29_loss: 3.1757 - dense_30_loss: 3.1741 - dense_31_loss: 3.1760 - dense_32_loss: 3.1733 - dense_28_acc: 0.0506 - dense_29_acc: 0.0476 - dense_30_acc: 0.0493 - dense_31_acc: 0.0436 - dense_32_acc: 0.0496 - val_loss: 15.9175 - val_dense_28_loss: 3.1924 - val_dense_29_loss: 3.1764 - val_dense_30_loss: 3.1852 - val_dense_31_loss: 3.1719 - val_dense_32_loss: 3.1915 - val_dense_28_acc: 0.0252 - val_dense_29_acc: 0.0566 - val_dense_30_acc: 0.0503 - val_dense_31_acc: 0.0314 - val_dense_32_acc: 0.0440\n",
      "Epoch 49/64\n",
      "3005/3005 [==============================] - 4s 1ms/step - loss: 15.8717 - dense_28_loss: 3.1730 - dense_29_loss: 3.1762 - dense_30_loss: 3.1737 - dense_31_loss: 3.1758 - dense_32_loss: 3.1730 - dense_28_acc: 0.0506 - dense_29_acc: 0.0479 - dense_30_acc: 0.0499 - dense_31_acc: 0.0449 - dense_32_acc: 0.0466 - val_loss: 15.9176 - val_dense_28_loss: 3.1924 - val_dense_29_loss: 3.1771 - val_dense_30_loss: 3.1850 - val_dense_31_loss: 3.1718 - val_dense_32_loss: 3.1912 - val_dense_28_acc: 0.0252 - val_dense_29_acc: 0.0566 - val_dense_30_acc: 0.0503 - val_dense_31_acc: 0.0314 - val_dense_32_acc: 0.0440\n",
      "Epoch 50/64\n",
      "3005/3005 [==============================] - 4s 1ms/step - loss: 15.8716 - dense_28_loss: 3.1732 - dense_29_loss: 3.1757 - dense_30_loss: 3.1737 - dense_31_loss: 3.1761 - dense_32_loss: 3.1729 - dense_28_acc: 0.0506 - dense_29_acc: 0.0476 - dense_30_acc: 0.0502 - dense_31_acc: 0.0463 - dense_32_acc: 0.0493 - val_loss: 15.9159 - val_dense_28_loss: 3.1914 - val_dense_29_loss: 3.1767 - val_dense_30_loss: 3.1849 - val_dense_31_loss: 3.1723 - val_dense_32_loss: 3.1906 - val_dense_28_acc: 0.0252 - val_dense_29_acc: 0.0566 - val_dense_30_acc: 0.0503 - val_dense_31_acc: 0.0314 - val_dense_32_acc: 0.0440\n",
      "Epoch 51/64\n",
      "3005/3005 [==============================] - 4s 1ms/step - loss: 15.8711 - dense_28_loss: 3.1731 - dense_29_loss: 3.1756 - dense_30_loss: 3.1737 - dense_31_loss: 3.1756 - dense_32_loss: 3.1731 - dense_28_acc: 0.0506 - dense_29_acc: 0.0473 - dense_30_acc: 0.0493 - dense_31_acc: 0.0439 - dense_32_acc: 0.0489 - val_loss: 15.9163 - val_dense_28_loss: 3.1918 - val_dense_29_loss: 3.1765 - val_dense_30_loss: 3.1850 - val_dense_31_loss: 3.1720 - val_dense_32_loss: 3.1909 - val_dense_28_acc: 0.0252 - val_dense_29_acc: 0.0566 - val_dense_30_acc: 0.0503 - val_dense_31_acc: 0.0314 - val_dense_32_acc: 0.0440\n",
      "Epoch 52/64\n",
      "3005/3005 [==============================] - 4s 1ms/step - loss: 15.8725 - dense_28_loss: 3.1730 - dense_29_loss: 3.1763 - dense_30_loss: 3.1743 - dense_31_loss: 3.1760 - dense_32_loss: 3.1728 - dense_28_acc: 0.0506 - dense_29_acc: 0.0469 - dense_30_acc: 0.0496 - dense_31_acc: 0.0409 - dense_32_acc: 0.0486 - val_loss: 15.9172 - val_dense_28_loss: 3.1921 - val_dense_29_loss: 3.1769 - val_dense_30_loss: 3.1850 - val_dense_31_loss: 3.1723 - val_dense_32_loss: 3.1909 - val_dense_28_acc: 0.0252 - val_dense_29_acc: 0.0566 - val_dense_30_acc: 0.0503 - val_dense_31_acc: 0.0314 - val_dense_32_acc: 0.0440\n",
      "Epoch 53/64\n",
      "2048/3005 [===================>..........] - ETA: 1s - loss: 15.8725 - dense_28_loss: 3.1720 - dense_29_loss: 3.1777 - dense_30_loss: 3.1754 - dense_31_loss: 3.1758 - dense_32_loss: 3.1716 - dense_28_acc: 0.0527 - dense_29_acc: 0.0459 - dense_30_acc: 0.0425 - dense_31_acc: 0.0483 - dense_32_acc: 0.0493"
     ]
    },
    {
     "ename": "KeyboardInterrupt",
     "evalue": "",
     "output_type": "error",
     "traceback": [
      "\u001b[0;31m---------------------------------------------------------------------------\u001b[0m",
      "\u001b[0;31mKeyboardInterrupt\u001b[0m                         Traceback (most recent call last)",
      "\u001b[0;32m<ipython-input-69-f9a6f2ec5d19>\u001b[0m in \u001b[0;36m<module>\u001b[0;34m\u001b[0m\n\u001b[1;32m      1\u001b[0m \u001b[0;31m# Train the neural network\u001b[0m\u001b[0;34m\u001b[0m\u001b[0;34m\u001b[0m\u001b[0;34m\u001b[0m\u001b[0m\n\u001b[0;32m----> 2\u001b[0;31m \u001b[0mmodel\u001b[0m\u001b[0;34m.\u001b[0m\u001b[0mfit\u001b[0m\u001b[0;34m(\u001b[0m\u001b[0mX_train2\u001b[0m\u001b[0;34m,\u001b[0m \u001b[0mY_train3\u001b[0m\u001b[0;34m[\u001b[0m\u001b[0;34m:\u001b[0m\u001b[0;34m]\u001b[0m\u001b[0;34m,\u001b[0m \u001b[0mvalidation_data\u001b[0m\u001b[0;34m=\u001b[0m\u001b[0;34m(\u001b[0m\u001b[0mX_test2\u001b[0m\u001b[0;34m,\u001b[0m \u001b[0mY_test3\u001b[0m\u001b[0;34m[\u001b[0m\u001b[0;34m:\u001b[0m\u001b[0;34m]\u001b[0m\u001b[0;34m)\u001b[0m\u001b[0;34m,\u001b[0m \u001b[0mbatch_size\u001b[0m\u001b[0;34m=\u001b[0m\u001b[0;36m512\u001b[0m\u001b[0;34m,\u001b[0m \u001b[0mepochs\u001b[0m\u001b[0;34m=\u001b[0m\u001b[0;36m64\u001b[0m\u001b[0;34m,\u001b[0m \u001b[0mverbose\u001b[0m\u001b[0;34m=\u001b[0m\u001b[0;36m1\u001b[0m\u001b[0;34m)\u001b[0m\u001b[0;34m\u001b[0m\u001b[0;34m\u001b[0m\u001b[0m\n\u001b[0m",
      "\u001b[0;32m/usr/local/lib/python3.6/dist-packages/keras/engine/training.py\u001b[0m in \u001b[0;36mfit\u001b[0;34m(self, x, y, batch_size, epochs, verbose, callbacks, validation_split, validation_data, shuffle, class_weight, sample_weight, initial_epoch, steps_per_epoch, validation_steps, **kwargs)\u001b[0m\n\u001b[1;32m   1037\u001b[0m                                         \u001b[0minitial_epoch\u001b[0m\u001b[0;34m=\u001b[0m\u001b[0minitial_epoch\u001b[0m\u001b[0;34m,\u001b[0m\u001b[0;34m\u001b[0m\u001b[0;34m\u001b[0m\u001b[0m\n\u001b[1;32m   1038\u001b[0m                                         \u001b[0msteps_per_epoch\u001b[0m\u001b[0;34m=\u001b[0m\u001b[0msteps_per_epoch\u001b[0m\u001b[0;34m,\u001b[0m\u001b[0;34m\u001b[0m\u001b[0;34m\u001b[0m\u001b[0m\n\u001b[0;32m-> 1039\u001b[0;31m                                         validation_steps=validation_steps)\n\u001b[0m\u001b[1;32m   1040\u001b[0m \u001b[0;34m\u001b[0m\u001b[0m\n\u001b[1;32m   1041\u001b[0m     def evaluate(self, x=None, y=None,\n",
      "\u001b[0;32m/usr/local/lib/python3.6/dist-packages/keras/engine/training_arrays.py\u001b[0m in \u001b[0;36mfit_loop\u001b[0;34m(model, f, ins, out_labels, batch_size, epochs, verbose, callbacks, val_f, val_ins, shuffle, callback_metrics, initial_epoch, steps_per_epoch, validation_steps)\u001b[0m\n\u001b[1;32m    197\u001b[0m                     \u001b[0mins_batch\u001b[0m\u001b[0;34m[\u001b[0m\u001b[0mi\u001b[0m\u001b[0;34m]\u001b[0m \u001b[0;34m=\u001b[0m \u001b[0mins_batch\u001b[0m\u001b[0;34m[\u001b[0m\u001b[0mi\u001b[0m\u001b[0;34m]\u001b[0m\u001b[0;34m.\u001b[0m\u001b[0mtoarray\u001b[0m\u001b[0;34m(\u001b[0m\u001b[0;34m)\u001b[0m\u001b[0;34m\u001b[0m\u001b[0;34m\u001b[0m\u001b[0m\n\u001b[1;32m    198\u001b[0m \u001b[0;34m\u001b[0m\u001b[0m\n\u001b[0;32m--> 199\u001b[0;31m                 \u001b[0mouts\u001b[0m \u001b[0;34m=\u001b[0m \u001b[0mf\u001b[0m\u001b[0;34m(\u001b[0m\u001b[0mins_batch\u001b[0m\u001b[0;34m)\u001b[0m\u001b[0;34m\u001b[0m\u001b[0;34m\u001b[0m\u001b[0m\n\u001b[0m\u001b[1;32m    200\u001b[0m                 \u001b[0mouts\u001b[0m \u001b[0;34m=\u001b[0m \u001b[0mto_list\u001b[0m\u001b[0;34m(\u001b[0m\u001b[0mouts\u001b[0m\u001b[0;34m)\u001b[0m\u001b[0;34m\u001b[0m\u001b[0;34m\u001b[0m\u001b[0m\n\u001b[1;32m    201\u001b[0m                 \u001b[0;32mfor\u001b[0m \u001b[0ml\u001b[0m\u001b[0;34m,\u001b[0m \u001b[0mo\u001b[0m \u001b[0;32min\u001b[0m \u001b[0mzip\u001b[0m\u001b[0;34m(\u001b[0m\u001b[0mout_labels\u001b[0m\u001b[0;34m,\u001b[0m \u001b[0mouts\u001b[0m\u001b[0;34m)\u001b[0m\u001b[0;34m:\u001b[0m\u001b[0;34m\u001b[0m\u001b[0;34m\u001b[0m\u001b[0m\n",
      "\u001b[0;32m/usr/local/lib/python3.6/dist-packages/keras/backend/tensorflow_backend.py\u001b[0m in \u001b[0;36m__call__\u001b[0;34m(self, inputs)\u001b[0m\n\u001b[1;32m   2713\u001b[0m                 \u001b[0;32mreturn\u001b[0m \u001b[0mself\u001b[0m\u001b[0;34m.\u001b[0m\u001b[0m_legacy_call\u001b[0m\u001b[0;34m(\u001b[0m\u001b[0minputs\u001b[0m\u001b[0;34m)\u001b[0m\u001b[0;34m\u001b[0m\u001b[0;34m\u001b[0m\u001b[0m\n\u001b[1;32m   2714\u001b[0m \u001b[0;34m\u001b[0m\u001b[0m\n\u001b[0;32m-> 2715\u001b[0;31m             \u001b[0;32mreturn\u001b[0m \u001b[0mself\u001b[0m\u001b[0;34m.\u001b[0m\u001b[0m_call\u001b[0m\u001b[0;34m(\u001b[0m\u001b[0minputs\u001b[0m\u001b[0;34m)\u001b[0m\u001b[0;34m\u001b[0m\u001b[0;34m\u001b[0m\u001b[0m\n\u001b[0m\u001b[1;32m   2716\u001b[0m         \u001b[0;32melse\u001b[0m\u001b[0;34m:\u001b[0m\u001b[0;34m\u001b[0m\u001b[0;34m\u001b[0m\u001b[0m\n\u001b[1;32m   2717\u001b[0m             \u001b[0;32mif\u001b[0m \u001b[0mpy_any\u001b[0m\u001b[0;34m(\u001b[0m\u001b[0mis_tensor\u001b[0m\u001b[0;34m(\u001b[0m\u001b[0mx\u001b[0m\u001b[0;34m)\u001b[0m \u001b[0;32mfor\u001b[0m \u001b[0mx\u001b[0m \u001b[0;32min\u001b[0m \u001b[0minputs\u001b[0m\u001b[0;34m)\u001b[0m\u001b[0;34m:\u001b[0m\u001b[0;34m\u001b[0m\u001b[0;34m\u001b[0m\u001b[0m\n",
      "\u001b[0;32m/usr/local/lib/python3.6/dist-packages/keras/backend/tensorflow_backend.py\u001b[0m in \u001b[0;36m_call\u001b[0;34m(self, inputs)\u001b[0m\n\u001b[1;32m   2673\u001b[0m             \u001b[0mfetched\u001b[0m \u001b[0;34m=\u001b[0m \u001b[0mself\u001b[0m\u001b[0;34m.\u001b[0m\u001b[0m_callable_fn\u001b[0m\u001b[0;34m(\u001b[0m\u001b[0;34m*\u001b[0m\u001b[0marray_vals\u001b[0m\u001b[0;34m,\u001b[0m \u001b[0mrun_metadata\u001b[0m\u001b[0;34m=\u001b[0m\u001b[0mself\u001b[0m\u001b[0;34m.\u001b[0m\u001b[0mrun_metadata\u001b[0m\u001b[0;34m)\u001b[0m\u001b[0;34m\u001b[0m\u001b[0;34m\u001b[0m\u001b[0m\n\u001b[1;32m   2674\u001b[0m         \u001b[0;32melse\u001b[0m\u001b[0;34m:\u001b[0m\u001b[0;34m\u001b[0m\u001b[0;34m\u001b[0m\u001b[0m\n\u001b[0;32m-> 2675\u001b[0;31m             \u001b[0mfetched\u001b[0m \u001b[0;34m=\u001b[0m \u001b[0mself\u001b[0m\u001b[0;34m.\u001b[0m\u001b[0m_callable_fn\u001b[0m\u001b[0;34m(\u001b[0m\u001b[0;34m*\u001b[0m\u001b[0marray_vals\u001b[0m\u001b[0;34m)\u001b[0m\u001b[0;34m\u001b[0m\u001b[0;34m\u001b[0m\u001b[0m\n\u001b[0m\u001b[1;32m   2676\u001b[0m         \u001b[0;32mreturn\u001b[0m \u001b[0mfetched\u001b[0m\u001b[0;34m[\u001b[0m\u001b[0;34m:\u001b[0m\u001b[0mlen\u001b[0m\u001b[0;34m(\u001b[0m\u001b[0mself\u001b[0m\u001b[0;34m.\u001b[0m\u001b[0moutputs\u001b[0m\u001b[0;34m)\u001b[0m\u001b[0;34m]\u001b[0m\u001b[0;34m\u001b[0m\u001b[0;34m\u001b[0m\u001b[0m\n\u001b[1;32m   2677\u001b[0m \u001b[0;34m\u001b[0m\u001b[0m\n",
      "\u001b[0;32m/usr/local/lib/python3.6/dist-packages/tensorflow/python/client/session.py\u001b[0m in \u001b[0;36m__call__\u001b[0;34m(self, *args, **kwargs)\u001b[0m\n\u001b[1;32m   1437\u001b[0m           ret = tf_session.TF_SessionRunCallable(\n\u001b[1;32m   1438\u001b[0m               \u001b[0mself\u001b[0m\u001b[0;34m.\u001b[0m\u001b[0m_session\u001b[0m\u001b[0;34m.\u001b[0m\u001b[0m_session\u001b[0m\u001b[0;34m,\u001b[0m \u001b[0mself\u001b[0m\u001b[0;34m.\u001b[0m\u001b[0m_handle\u001b[0m\u001b[0;34m,\u001b[0m \u001b[0margs\u001b[0m\u001b[0;34m,\u001b[0m \u001b[0mstatus\u001b[0m\u001b[0;34m,\u001b[0m\u001b[0;34m\u001b[0m\u001b[0;34m\u001b[0m\u001b[0m\n\u001b[0;32m-> 1439\u001b[0;31m               run_metadata_ptr)\n\u001b[0m\u001b[1;32m   1440\u001b[0m         \u001b[0;32mif\u001b[0m \u001b[0mrun_metadata\u001b[0m\u001b[0;34m:\u001b[0m\u001b[0;34m\u001b[0m\u001b[0;34m\u001b[0m\u001b[0m\n\u001b[1;32m   1441\u001b[0m           \u001b[0mproto_data\u001b[0m \u001b[0;34m=\u001b[0m \u001b[0mtf_session\u001b[0m\u001b[0;34m.\u001b[0m\u001b[0mTF_GetBuffer\u001b[0m\u001b[0;34m(\u001b[0m\u001b[0mrun_metadata_ptr\u001b[0m\u001b[0;34m)\u001b[0m\u001b[0;34m\u001b[0m\u001b[0;34m\u001b[0m\u001b[0m\n",
      "\u001b[0;31mKeyboardInterrupt\u001b[0m: "
     ]
    }
   ],
   "source": [
    "# Train the neural network\n",
    "model.fit(X_train2, Y_train3[:], validation_data=(X_test2, Y_test3[:]), batch_size=512, epochs=64, verbose=1)"
   ]
  },
  {
   "cell_type": "code",
   "execution_count": null,
   "metadata": {},
   "outputs": [],
   "source": []
  }
 ],
 "metadata": {
  "kernelspec": {
   "display_name": "Python 3",
   "language": "python",
   "name": "python3"
  },
  "language_info": {
   "codemirror_mode": {
    "name": "ipython",
    "version": 3
   },
   "file_extension": ".py",
   "mimetype": "text/x-python",
   "name": "python",
   "nbconvert_exporter": "python",
   "pygments_lexer": "ipython3",
   "version": "3.5.5"
  }
 },
 "nbformat": 4,
 "nbformat_minor": 2
}
